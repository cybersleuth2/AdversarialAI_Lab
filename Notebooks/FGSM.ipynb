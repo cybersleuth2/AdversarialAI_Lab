{
 "cells": [
  {
   "cell_type": "markdown",
   "metadata": {},
   "source": [
    "# FGSM Adversarial Attack Interactive Notebook\n",
    "This notebook demonstrates FGSM attacks with visualizations, downloads, and a GIF generator."
   ]
  },
  {
   "cell_type": "code",
   "execution_count": null,
   "metadata": {},
   "outputs": [],
   "source": [
    "# Cell 1: Imports\n",
    "import torch\n",
    "import torch.nn as nn\n",
    "import torch.optim as optim\n",
    "import torchvision\n",
    "import torchvision.transforms as transforms\n",
    "import numpy as np\n",
    "import matplotlib.pyplot as plt\n",
    "from torchvision.utils import save_image\n",
    "import imageio\n",
    "import os\n",
    "from ipywidgets import interact, FloatSlider\n",
    "from PIL import Image\n",
    "device = torch.device(\"cuda\" if torch.cuda.is_available() else \"cpu\")"
   ]
  },
  {
   "cell_type": "code",
   "execution_count": null,
   "metadata": {},
   "outputs": [],
   "source": [
    "# Cell 2: Load MNIST dataset\n",
    "transform = transforms.Compose([transforms.ToTensor()])\n",
    "testset = torchvision.datasets.MNIST(root='./data', train=False, download=True, transform=transform)\n",
    "testloader = torch.utils.data.DataLoader(testset, batch_size=1, shuffle=True)\n",
    "classes = list(range(10))"
   ]
  },
  {
   "cell_type": "code",
   "execution_count": null,
   "metadata": {},
   "outputs": [],
   "source": [
    "# Cell 3: Define a small CNN\n",
    "class Net(nn.Module):\n",
    "    def __init__(self):\n",
    "        super(Net, self).__init__()\n",
    "        self.fc = nn.Linear(28*28, 10)\n",
    "\n",
    "    def forward(self, x):\n",
    "        x = x.view(-1, 28*28)\n",
    "        return self.fc(x)\n",
    "\n",
    "model = Net().to(device)\n",
    "model_path = \"./models/mnist_model.pth\"\n",
    "os.makedirs(\"./models\", exist_ok=True)\n",
    "\n",
    "if not os.path.exists(model_path):\n",
    "    optimizer = optim.Adam(model.parameters(), lr=0.001)\n",
    "    loss_fn = nn.CrossEntropyLoss()\n",
    "    trainset = torchvision.datasets.MNIST(root='./data', train=True, download=True, transform=transform)\n",
    "    trainloader = torch.utils.data.DataLoader(trainset, batch_size=64, shuffle=True)\n",
    "    for epoch in range(1):\n",
    "        for data, target in trainloader:\n",
    "            data, target = data.to(device), target.to(device)\n",
    "            optimizer.zero_grad()\n",
    "            output = model(data)\n",
    "            loss = loss_fn(output, target)\n",
    "            loss.backward()\n",
    "            optimizer.step()\n",
    "    torch.save(model.state_dict(), model_path)\n",
    "model.load_state_dict(torch.load(model_path, map_location=device))\n",
    "model.eval()"
   ]
  },
  {
   "cell_type": "code",
   "execution_count": null,
   "metadata": {},
   "outputs": [],
   "source": [
    "# Cell 4: FGSM Attack Function\n",
    "def fgsm_attack(image, epsilon, data_grad):\n",
    "    sign_data_grad = data_grad.sign()\n",
    "    perturbed_image = image + epsilon * sign_data_grad\n",
    "    perturbed_image = torch.clamp(perturbed_image, 0, 1)\n",
    "    return perturbed_image"
   ]
  },
  {
   "cell_type": "code",
   "execution_count": null,
   "metadata": {},
   "outputs": [],
   "source": [
    "# Cell 5: Interactive FGSM Attack\n",
    "dataiter = iter(testloader)\n",
    "image, label = next(dataiter)\n",
    "image, label = image.to(device), label.to(device)\n",
    "image.requires_grad = True\n",
    "\n",
    "output = model(image)\n",
    "init_pred = output.max(1, keepdim=True)[1]\n",
    "\n",
    "if init_pred.item() != label.item():\n",
    "    print(\"Model initially misclassified this example.\")\n",
    "else:\n",
    "    loss = nn.CrossEntropyLoss()(output, label)\n",
    "    model.zero_grad()\n",
    "    loss.backward()\n",
    "    data_grad = image.grad.data\n",
    "\n",
    "    @interact(epsilon=FloatSlider(min=0, max=0.5, step=0.01, value=0.1))\n",
    "    def update(epsilon):\n",
    "        perturbed_data = fgsm_attack(image, epsilon, data_grad)\n",
    "        output = model(perturbed_data)\n",
    "        final_pred = output.max(1, keepdim=True)[1]\n",
    "        \n",
    "        fig, axs = plt.subplots(1, 3, figsize=(10,3))\n",
    "        axs[0].imshow(image.squeeze().cpu().detach(), cmap=\"gray\")\n",
    "        axs[0].set_title('Original')\n",
    "        axs[1].imshow(perturbed_data.squeeze().cpu().detach(), cmap=\"gray\")\n",
    "        axs[1].set_title('Adversarial')\n",
    "        perturbation = perturbed_data - image\n",
    "        axs[2].imshow(perturbation.squeeze().cpu().detach().abs(), cmap='hot')\n",
    "        axs[2].set_title('Perturbation')\n",
    "        for ax in axs:\n",
    "            ax.axis('off')\n",
    "        plt.tight_layout()\n",
    "        plt.show()\n",
    "        save_image(perturbed_data, \"fgsm_output.png\")"
   ]
  },
  {
   "cell_type": "code",
   "execution_count": null,
   "metadata": {},
   "outputs": [],
   "source": [
    "# Cell 6: Create a GIF over increasing epsilon values\n",
    "images = []\n",
    "epsilons = np.linspace(0, 0.5, num=20)\n",
    "for eps in epsilons:\n",
    "    adv = fgsm_attack(image, eps, data_grad)\n",
    "    adv_img = adv.squeeze().cpu().detach().numpy() * 255\n",
    "    adv_img = adv_img.astype(np.uint8)\n",
    "    images.append(adv_img)\n",
    "imageio.mimsave('fgsm_progression.gif', images, duration=0.2)\n",
    "print(\"[INFO] GIF saved as fgsm_progression.gif\")"
   ]
  }
 ],
 "metadata": {
  "kernelspec": {
   "display_name": "Python 3 (ipykernel)",
   "language": "python",
   "name": "python3"
  },
  "language_info": {
   "name": "python",
   "version": "3.10"
  }
 },
 "nbformat": 4,
 "nbformat_minor": 5
}
