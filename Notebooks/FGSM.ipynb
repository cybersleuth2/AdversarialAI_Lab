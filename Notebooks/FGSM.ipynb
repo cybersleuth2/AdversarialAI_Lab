# Updated FGSM.ipynb

{
 "cells": [
  {
   "cell_type": "markdown",
   "metadata": {},
   "source": [
    "# FGSM Adversarial Attack Demo with Interactivity and Visualization"
   ]
  },
  {
   "cell_type": "code",
   "metadata": {},
   "source": [
    "# Imports\n",
    "import torch\n",
    "import torch.nn as nn\n",
    "import torch.optim as optim\n",
    "import torchvision\n",
    "import torchvision.transforms as transforms\n",
    "import matplotlib.pyplot as plt\n",
    "from torchvision.utils import save_image\n",
    "import imageio\n",
    "import os\n",
    "from ipywidgets import interact, FloatSlider\n",
    "import numpy as np\n",
    "from PIL import Image\n",
    "\n",
    "device = torch.device(\"cuda\" if torch.cuda.is_available() else \"cpu\")"
   ]
  },
  {
   "cell_type": "code",
   "metadata": {},
   "source": [
    "# Create necessary folders\n",
    "os.makedirs(\"../models\", exist_ok=True)\n",
    "os.makedirs(\"../images\", exist_ok=True)"
   ]
  },
  {
   "cell_type": "code",
   "metadata": {},
   "source": [
    "# Load MNIST dataset\n",
    "transform = transforms.Compose([transforms.ToTensor()])\n",
    "testset = torchvision.datasets.MNIST(root=\"../data\", train=False, download=True, transform=transform)\n",
    "testloader = torch.utils.data.DataLoader(testset, batch_size=1, shuffle=True)"
   ]
  },
  {
   "cell_type": "code",
   "metadata": {},
   "source": [
    "# Define a small CNN\n",
    "class Net(nn.Module):\n",
    "    def __init__(self):\n",
    "        super(Net, self).__init__()\n",
    "        self.fc = nn.Linear(28*28, 10)\n",
    "    def forward(self, x):\n",
    "        x = x.view(-1, 28*28)\n",
    "        return self.fc(x)\n",
    "\n",
    "model = Net().to(device)\n",
    "\n",
    "# Train small model if needed\n",
    "model_path = \"../models/mnist_model.pth\"\n",
    "if not os.path.exists(model_path):\n",
    "    optimizer = optim.Adam(model.parameters(), lr=0.001)\n",
    "    loss_fn = nn.CrossEntropyLoss()\n",
    "    trainset = torchvision.datasets.MNIST(root=\"../data\", train=True, download=True, transform=transform)\n",
    "    trainloader = torch.utils.data.DataLoader(trainset, batch_size=64, shuffle=True)\n",
    "    model.train()\n",
    "    for epoch in range(1):\n",
    "        for images, labels in trainloader:\n",
    "            images, labels = images.to(device), labels.to(device)\n",
    "            optimizer.zero_grad()\n",
    "            outputs = model(images)\n",
    "            loss = loss_fn(outputs, labels)\n",
    "            loss.backward()\n",
    "            optimizer.step()\n",
    "    torch.save(model.state_dict(), model_path)\n",
    "model.load_state_dict(torch.load(model_path, map_location=device))\n",
    "model.eval()"
   ]
  },
  {
   "cell_type": "code",
   "metadata": {},
   "source": [
    "# FGSM Attack Function\n",
    "def fgsm_attack(image, epsilon, data_grad):\n",
    "    perturbed_image = image + epsilon * data_grad.sign()\n",
    "    perturbed_image = torch.clamp(perturbed_image, 0, 1)\n",
    "    return perturbed_image"
   ]
  },
  {
   "cell_type": "code",
   "metadata": {},
   "source": [
    "# Interactive FGSM Attack\n",
    "def run_attack(epsilon=0.1):\n",
    "    dataiter = iter(testloader)\n",
    "    image, label = next(dataiter)\n",
    "    image, label = image.to(device), label.to(device)\n",
    "\n",
    "    image.requires_grad = True\n",
    "    output = model(image)\n",
    "    init_pred = output.max(1, keepdim=True)[1]\n",
    "\n",
    "    loss = nn.CrossEntropyLoss()(output, label)\n",
    "    model.zero_grad()\n",
    "    loss.backward()\n",
    "    data_grad = image.grad.data\n",
    "    perturbed_data = fgsm_attack(image, epsilon, data_grad)\n",
    "\n",
    "    # Heatmap of perturbation\n",
    "    perturbation = perturbed_data - image\n",
    "    perturb_np = perturbation.squeeze().detach().cpu().numpy()\n",
    "\n",
    "    fig, axs = plt.subplots(1, 3, figsize=(12, 4))\n",
    "    axs[0].imshow(image.squeeze().detach().cpu().numpy(), cmap=\"gray\")\n",
    "    axs[0].set_title(\"Original Image\")\n",
    "    axs[1].imshow(perturb_np, cmap=\"seismic\", vmin=-epsilon, vmax=epsilon)\n",
    "    axs[1].set_title(\"Perturbation Heatmap\")\n",
    "    axs[2].imshow(perturbed_data.squeeze().detach().cpu().numpy(), cmap=\"gray\")\n",
    "    axs[2].set_title(\"Adversarial Image\")\n",
    "    for ax in axs:\n",
    "        ax.axis(\"off\")\n",
    "    plt.tight_layout()\n",
    "    plt.show()\n",
    "\n",
    "    # Save GIF\n",
    "    frames = []\n",
    "    steps = np.linspace(0, epsilon, 10)\n",
    "    for eps in steps:\n",
    "        frame = fgsm_attack(image, eps, data_grad).squeeze().detach().cpu().numpy()\n",
    "        frames.append((frame * 255).astype(np.uint8))\n",
    "    imageio.mimsave(\"../images/fgsm_attack.gif\", frames, duration=0.2)\n",
    "    print(\"GIF saved at ../images/fgsm_attack.gif\")"
   ]
  },
  {
   "cell_type": "code",
   "metadata": {},
   "source": [
    "# Interactive slider to try different epsilon values\n",
    "interact(run_attack, epsilon=FloatSlider(min=0.0, max=0.5, step=0.01, value=0.1))"
   ]
  }
 ],
 "metadata": {
  "kernelspec": {
   "display_name": "Python 3",
   "language": "python",
   "name": "python3"
  },
  "language_info": {
   "name": "python",
   "version": "3.10"
  }
 },
 "nbformat": 4,
 "nbformat_minor": 5
}
