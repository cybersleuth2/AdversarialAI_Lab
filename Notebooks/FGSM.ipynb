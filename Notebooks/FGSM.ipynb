# FGSM.ipynb

# Cell 1: Imports
!pip install ipywidgets --quiet
import torch
import torch.nn as nn
import torch.nn.functional as F
import torchvision.transforms as transforms
import torchvision.datasets as datasets
import matplotlib.pyplot as plt
import numpy as np
from ipywidgets import interact, FloatSlider, IntSlider
from PIL import Image
import os

# Cell 2: Device and Data

device = torch.device("cpu")

transform = transforms.Compose([transforms.ToTensor()])
mnist = datasets.MNIST(root="../data", train=False, download=True, transform=transform)
data_loader = torch.utils.data.DataLoader(mnist, batch_size=1, shuffle=False)

# Cell 3: Define a Small Model
class Net(nn.Module):
    def __init__(self):
        super(Net, self).__init__()
        self.fc = nn.Linear(28*28, 10)

    def forward(self, x):
        x = x.view(-1, 28*28)
        return self.fc(x)

model = Net().to(device)

# Try loading model, otherwise train and save it
model_path = "../models/mnist_model.pth"
if os.path.exists(model_path):
    model.load_state_dict(torch.load(model_path, map_location=device))
    model.eval()
else:
    train_loader = torch.utils.data.DataLoader(datasets.MNIST("../data", train=True, download=True, transform=transform), batch_size=64, shuffle=True)
    optimizer = torch.optim.Adam(model.parameters(), lr=0.01)
    criterion = nn.CrossEntropyLoss()
    model.train()
    for epoch in range(1):
        for data, target in train_loader:
            data, target = data.to(device), target.to(device)
            optimizer.zero_grad()
            output = model(data)
            loss = criterion(output, target)
            loss.backward()
            optimizer.step()
    torch.save(model.state_dict(), model_path)
    model.eval()

# Cell 4: FGSM Attack

def fgsm_attack(image, epsilon, data_grad):
    sign_data_grad = data_grad.sign()
    perturbed_image = image + epsilon * sign_data_grad
    return torch.clamp(perturbed_image, 0, 1)

# Cell 5: Display Original, Perturbed and Difference

def run_fgsm(image_idx, epsilon):
    image, label = mnist[image_idx]
    image = image.unsqueeze(0).to(device)
    label = torch.tensor([label]).to(device)

    image.requires_grad = True
    output = model(image)
    loss = F.nll_loss(F.log_softmax(output, dim=1), label)
    model.zero_grad()
    loss.backward()

    data_grad = image.grad.data
    perturbed = fgsm_attack(image, epsilon, data_grad)

    output = model(perturbed)
    pred = output.max(1, keepdim=True)[1]
    success = pred.item() != label.item()

    fig, axs = plt.subplots(1, 3, figsize=(10, 3))

    axs[0].imshow(image.squeeze().detach().cpu(), cmap="gray")
    axs[0].set_title(f"Original: {label.item()}")
    axs[0].axis("off")

    axs[1].imshow(perturbed.squeeze().detach().cpu(), cmap="gray")
    axs[1].set_title(f"Perturbed: {pred.item()}")
    axs[1].axis("off")

    axs[2].imshow((perturbed - image).squeeze().detach().cpu(), cmap="hot")
    axs[2].set_title("Perturbation")
    axs[2].axis("off")

    plt.suptitle("Adversarial Example" + (" - Attack Succeeded" if success else " - Attack Failed"))
    plt.tight_layout()
    plt.show()

# Cell 6: Interactivity
interact(run_fgsm, image_idx=IntSlider(0, 0, len(mnist)-1), epsilon=FloatSlider(0.0, 0.0, 0.5, step=0.01))
