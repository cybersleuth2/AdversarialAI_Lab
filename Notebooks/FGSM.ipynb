{
 "cells": [
  {
   "cell_type": "markdown",
   "metadata": {},
   "source": [
    "# FGSM Adversarial Attack (Interactive)\n",
    "This notebook demonstrates the FGSM attack on a simple CNN trained on MNIST."
   ]
  },
  {
   "cell_type": "code",
   "execution_count": null,
   "metadata": {},
   "outputs": [],
   "source": [
    "!pip install -q ipywidgets torchvision matplotlib"
   ]
  },
  {
   "cell_type": "code",
   "execution_count": null,
   "metadata": {},
   "outputs": [],
   "source": [
    "import torch\n",
    "import torch.nn as nn\n",
    "import torch.nn.functional as F\n",
    "import torchvision.transforms as transforms\n",
    "from torchvision.datasets import MNIST\n",
    "from torch.utils.data import DataLoader\n",
    "import matplotlib.pyplot as plt\n",
    "import numpy as np\n",
    "from ipywidgets import interact, FloatSlider, IntSlider\n",
    "from PIL import Image\n",
    "import os"
   ]
  },
  {
   "cell_type": "code",
   "execution_count": null,
   "metadata": {},
   "outputs": [],
   "source": [
    "device = \"cuda\" if torch.cuda.is_available() else \"cpu\"\n",
    "\n",
    "class Net(nn.Module):\n",
    "    def __init__(self):\n",
    "        super(Net, self).__init__()\n",
    "        self.conv1 = nn.Conv2d(1, 10, kernel_size=5)\n",
    "        self.conv2 = nn.Conv2d(10, 20, kernel_size=5)\n",
    "        self.fc = nn.Linear(320, 10)\n",
    "\n",
    "    def forward(self, x):\n",
    "        x = F.relu(F.max_pool2d(self.conv1(x), 2))\n",
    "        x = F.relu(F.max_pool2d(self.conv2(x), 2))\n",
    "        x = x.view(-1, 320)\n",
    "        return self.fc(x)\n",
    "\n",
    "model = Net().to(device)\n",
    "model_path = \"../models/mnist_model.pth\"\n",
    "if not os.path.exists(model_path):\n",
    "    print(\"[INFO] Training model...\")\n",
    "    transform = transforms.ToTensor()\n",
    "    train_set = MNIST(root=\"../data\", train=True, download=True, transform=transform)\n",
    "    train_loader = DataLoader(train_set, batch_size=64, shuffle=True)\n",
    "    optimizer = torch.optim.Adam(model.parameters(), lr=0.001)\n",
    "    for epoch in range(1):\n",
    "        for images, labels in train_loader:\n",
    "            images, labels = images.to(device), labels.to(device)\n",
    "            optimizer.zero_grad()\n",
    "            output = model(images)\n",
    "            loss = F.cross_entropy(output, labels)\n",
    "            loss.backward()\n",
    "            optimizer.step()\n",
    "    torch.save(model.state_dict(), model_path)\n",
    "model.load_state_dict(torch.load(model_path, map_location=device))\n",
    "model.eval()"
   ]
  },
  {
   "cell_type": "code",
   "execution_count": null,
   "metadata": {},
   "outputs": [],
   "source": [
    "def fgsm_attack(image, epsilon, data_grad):\n",
    "    sign_data_grad = data_grad.sign()\n",
    "    perturbed_image = image + epsilon * sign_data_grad\n",
    "    return torch.clamp(perturbed_image, 0, 1)"
   ]
  },
  {
   "cell_type": "code",
   "execution_count": null,
   "metadata": {},
   "outputs": [],
   "source": [
    "def display_adversarial(epsilon):\n",
    "    transform = transforms.ToTensor()\n",
    "    test_set = MNIST(root=\"../data\", train=False, download=True, transform=transform)\n",
    "    image, label = test_set[0]\n",
    "    image = image.unsqueeze(0).to(device)\n",
    "    image.requires_grad = True\n",
    "    output = model(image)\n",
    "    init_pred = output.max(1, keepdim=True)[1] # predicted label\n",
    "\n",
    "    loss = F.cross_entropy(output, torch.tensor([label], device=device))\n",
    "    model.zero_grad()\n",
    "    loss.backward()\n",
    "    data_grad = image.grad.data\n",
    "    perturbed_image = fgsm_attack(image, epsilon, data_grad)\n",
    "    output = model(perturbed_image)\n",
    "    final_pred = output.max(1, keepdim=True)[1] # predicted label\n",
    "\n",
    "    diff = (perturbed_image - image).squeeze().cpu().numpy()\n",
    "    plt.figure(figsize=(10, 3))\n",
    "    plt.subplot(1, 3, 1)\n",
    "    plt.title(\"Original\nPred: {}\".format(init_pred.item()))\n",
    "    plt.imshow(image.squeeze().detach().cpu(), cmap=\"gray\")\n",
    "    plt.subplot(1, 3, 2)\n",
    "    plt.title(\"Adversarial\nPred: {}\".format(final_pred.item()))\n",
    "    plt.imshow(perturbed_image.squeeze().detach().cpu(), cmap=\"gray\")\n",
    "    plt.subplot(1, 3, 3)\n",
    "    plt.title(\"Perturbation\nIntensity\")\n",
    "    plt.imshow(diff, cmap='hot')\n",
    "    plt.colorbar()\n",
    "    plt.tight_layout()\n",
    "    plt.show()"
   ]
  },
  {
   "cell_type": "code",
   "execution_count": null,
   "metadata": {},
   "outputs": [],
   "source": [
    "interact(display_adversarial, epsilon=FloatSlider(min=0.0, max=0.5, step=0.01, value=0.1))"
   ]
  }
 ],
 "metadata": {
  "kernelspec": {
   "display_name": "Python 3",
   "language": "python",
   "name": "python3"
  },
  "language_info": {
   "name": "python",
   "version": "3.10"
  }
 },
 "nbformat": 4,
 "nbformat_minor": 5
}
