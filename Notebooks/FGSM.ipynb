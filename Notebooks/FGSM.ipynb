# FGSM.ipynb

# Cell 1: Imports
import torch
import torch.nn.functional as F
from torchvision import datasets, transforms
from torch.utils.data import DataLoader
import matplotlib.pyplot as plt
import numpy as np
import os
from PIL import Image

# Load the trained model from ../models/simple_mnist.pth
class SimpleCNN(torch.nn.Module):
    def __init__(self):
        super(SimpleCNN, self).__init__()
        self.conv1 = torch.nn.Conv2d(1, 10, kernel_size=5)
        self.conv2 = torch.nn.Conv2d(10, 20, kernel_size=5)
        self.fc1 = torch.nn.Linear(320, 50)
        self.fc2 = torch.nn.Linear(50, 10)

    def forward(self, x):
        x = F.relu(F.max_pool2d(self.conv1(x), 2))
        x = F.relu(F.max_pool2d(self.conv2(x), 2))
        x = x.view(-1, 320)
        x = F.relu(self.fc1(x))
        x = self.fc2(x)
        return x

# Cell 2: Load model
model = SimpleCNN()
model.load_state_dict(torch.load("../models/simple_mnist.pth", map_location=torch.device('cpu')))
model.eval()

# Cell 3: Load sample image from MNIST
test_loader = DataLoader(
    datasets.MNIST('../data', train=False, download=True,
                   transform=transforms.ToTensor()),
    batch_size=1, shuffle=True
)
data_iter = iter(test_loader)
data, target = next(data_iter)

# Cell 4: Predict original image
output = model(data)
pred = output.argmax(dim=1, keepdim=True)
print(f"Original Prediction: {pred.item()}")

# Cell 5: Define FGSM attack
def fgsm_attack(image, epsilon, data_grad):
    sign_data_grad = data_grad.sign()
    perturbed_image = image + epsilon * sign_data_grad
    perturbed_image = torch.clamp(perturbed_image, 0, 1)
    return perturbed_image

# Cell 6: Perform attack
data.requires_grad = True
output = model(data)
loss = F.nll_loss(F.log_softmax(output, dim=1), target)
model.zero_grad()
loss.backward()
data_grad = data.grad.data

epsilon = 0.25
perturbed_data = fgsm_attack(data, epsilon, data_grad)

# Cell 7: Predict adversarial image
output_adv = model(perturbed_data)
pred_adv = output_adv.argmax(dim=1, keepdim=True)
print(f"Adversarial Prediction: {pred_adv.item()}")

# Cell 8: Plot results
fig, axs = plt.subplots(1, 3, figsize=(10, 4))
axs[0].imshow(data.squeeze().detach().numpy(), cmap="gray")
axs[0].set_title("Original")
axs[1].imshow(perturbed_data.squeeze().detach().numpy(), cmap="gray")
axs[1].set_title("Adversarial")
diff = perturbed_data - data
axs[2].imshow(diff.squeeze().detach().numpy(), cmap="gray")
axs[2].set_title("Perturbation")

for ax in axs:
    ax.axis('off')

plt.tight_layout()
plt.show()

