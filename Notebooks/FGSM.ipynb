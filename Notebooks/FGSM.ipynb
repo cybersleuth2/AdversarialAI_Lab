{
 "cells": [
  {
   "cell_type": "markdown",
   "metadata": {},
   "source": [
    "# FGSM Adversarial Attack - Interactive Lab\n",
    "\n",
    "This notebook demonstrates FGSM attacks interactively."
   ]
  },
  {
   "cell_type": "code",
   "execution_count": null,
   "metadata": {},
   "outputs": [],
   "source": [
    "# Imports\n",
    "import torch\n",
    "import torch.nn as nn\n",
    "import torch.optim as optim\n",
    "import torchvision\n",
    "import torchvision.transforms as transforms\n",
    "import matplotlib.pyplot as plt\n",
    "from torchvision.utils import save_image\n",
    "import imageio\n",
    "import os\n",
    "from ipywidgets import interact, FloatSlider\n",
    "import numpy as np\n",
    "from PIL import Image"
   ]
  },
  {
   "cell_type": "code",
   "execution_count": null,
   "metadata": {},
   "outputs": [],
   "source": [
    "# Load MNIST Dataset\n",
    "transform = transforms.Compose([transforms.ToTensor()])\n",
    "testset = torchvision.datasets.MNIST(root='../datasets', train=False, download=True, transform=transform)\n",
    "testloader = torch.utils.data.DataLoader(testset, batch_size=1, shuffle=True)\n",
    "device = torch.device('cuda' if torch.cuda.is_available() else 'cpu')"
   ]
  },
  {
   "cell_type": "code",
   "execution_count": null,
   "metadata": {},
   "outputs": [],
   "source": [
    "# Simple CNN Model\n",
    "class Net(nn.Module):\n",
    "    def __init__(self):\n",
    "        super(Net, self).__init__()\n",
    "        self.fc = nn.Linear(28*28, 10)\n",
    "\n",
    "    def forward(self, x):\n",
    "        x = x.view(-1, 28*28)\n",
    "        return self.fc(x)\n",
    "\n",
    "model = Net().to(device)\n",
    "model_path = \"../models/mnist_model.pth\"\n",
    "os.makedirs(\"../models\", exist_ok=True)\n",
    "\n",
    "if os.path.exists(model_path):\n",
    "    model.load_state_dict(torch.load(model_path, map_location=device))\n",
    "else:\n",
    "    optimizer = optim.Adam(model.parameters(), lr=0.001)\n",
    "    criterion = nn.CrossEntropyLoss()\n",
    "    trainset = torchvision.datasets.MNIST(root='../datasets', train=True, download=True, transform=transform)\n",
    "    trainloader = torch.utils.data.DataLoader(trainset, batch_size=64, shuffle=True)\n",
    "    model.train()\n",
    "    for epoch in range(1):\n",
    "        for images, labels in trainloader:\n",
    "            images, labels = images.to(device), labels.to(device)\n",
    "            optimizer.zero_grad()\n",
    "            outputs = model(images)\n",
    "            loss = criterion(outputs, labels)\n",
    "            loss.backward()\n",
    "            optimizer.step()\n",
    "    torch.save(model.state_dict(), model_path)\n",
    "\n",
    "model.eval()"
   ]
  },
  {
   "cell_type": "code",
   "execution_count": null,
   "metadata": {},
   "outputs": [],
   "source": [
    "# FGSM Attack\n",
    "def fgsm_attack(image, epsilon, data_grad):\n",
    "    perturbed_image = image + epsilon * data_grad.sign()\n",
    "    perturbed_image = torch.clamp(perturbed_image, 0, 1)\n",
    "    return perturbed_image"
   ]
  },
  {
   "cell_type": "code",
   "execution_count": null,
   "metadata": {},
   "outputs": [],
   "source": [
    "# Interactive Attack Visualization\n",
    "def attack_visual(epsilon):\n",
    "    dataiter = iter(testloader)\n",
    "    image, label = next(dataiter)\n",
    "    image, label = image.to(device), label.to(device)\n",
    "\n",
    "    image.requires_grad = True\n",
    "    output = model(image)\n",
    "    init_pred = output.max(1, keepdim=True)[1]\n",
    "\n",
    "    loss = nn.CrossEntropyLoss()(output, label)\n",
    "    model.zero_grad()\n",
    "    loss.backward()\n",
    "    data_grad = image.grad.data\n",
    "\n",
    "    perturbed_image = fgsm_attack(image, epsilon, data_grad)\n",
    "\n",
    "    # Plotting original vs perturbed\n",
    "    fig, axs = plt.subplots(1, 3, figsize=(12,4))\n",
    "    axs[0].imshow(image.squeeze().cpu().detach().numpy(), cmap=\"gray\")\n",
    "    axs[0].set_title(\"Original\")\n",
    "    axs[0].axis('off')\n",
    "\n",
    "    axs[1].imshow((perturbed_image.squeeze().cpu().detach().numpy()), cmap=\"gray\")\n",
    "    axs[1].set_title(\"Adversarial\")\n",
    "    axs[1].axis('off')\n",
    "\n",
    "    axs[2].imshow((perturbed_image - image).squeeze().cpu().detach().numpy(), cmap='hot')\n",
    "    axs[2].set_title(\"Perturbation Heatmap\")\n",
    "    axs[2].axis('off')\n",
    "    \n",
    "    plt.tight_layout()\n",
    "    plt.show()\n",
    "\n",
    "interact(attack_visual, epsilon=FloatSlider(min=0, max=0.5, step=0.01, value=0.1));"
   ]
  }
 ],
 "metadata": {
  "kernelspec": {
   "display_name": "Python 3",
   "language": "python",
   "name": "python3"
  },
  "language_info": {
   "name": "python",
   "version": "3.10"
  }
 },
 "nbformat": 4,
 "nbformat_minor": 5
}
